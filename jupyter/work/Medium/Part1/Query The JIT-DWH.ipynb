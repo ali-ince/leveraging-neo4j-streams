{
 "cells": [
  {
   "cell_type": "markdown",
   "metadata": {},
   "source": [
    "# (Neo4j)-[:LOVES]->(Kafka)\n",
    "\n",
    "<div class=\"img-responsive center-block\" style=\"background-image: url('https://cdn-images-1.medium.com/max/2000/1*0k7QFFBl7YGD9haNYeLQpw.png'); width: 1124px; height: 300px; background-position: center; background-size: cover;\"></div>\n",
    "\n",
    "## Link\n",
    "\n",
    "https://neo4j-contrib.github.io/neo4j-streams/"
   ]
  },
  {
   "cell_type": "markdown",
   "metadata": {},
   "source": [
    "# Initialize spark & neo4j sessions"
   ]
  },
  {
   "cell_type": "code",
   "execution_count": null,
   "metadata": {},
   "outputs": [],
   "source": [
    "# Spark\n",
    "from pyspark.sql import SparkSession\n",
    "\n",
    "spark = SparkSession.builder.master('local').config(\n",
    "    \"spark.jars.packages\",\n",
    "    \"org.apache.spark:spark-sql-kafka-0-10_2.12:3.1.2\"\n",
    ").getOrCreate()\n",
    "\n",
    "# Neo4j\n",
    "import sys\n",
    "!{sys.executable} -m pip install py2neo\n",
    "\n",
    "from py2neo import Graph\n",
    "\n",
    "graph = Graph(\"bolt://neo4j:7687\", auth=(\"neo4j\", \"streams\"))"
   ]
  },
  {
   "cell_type": "markdown",
   "metadata": {},
   "source": [
    "# Query the JIT-DWH"
   ]
  },
  {
   "cell_type": "code",
   "execution_count": null,
   "metadata": {},
   "outputs": [],
   "source": [
    "from pyspark.sql.functions import first\n",
    "\n",
    "flattenedDF = spark.read.format(\"json\").load(\"/home/streams/jit-dwh/**\") \\\n",
    "    .where(\"neo_id is not null\") \\\n",
    "    .groupBy(\"neo_id\", \"timestamp\", \"host\", \"labels\", \"operation\") \\\n",
    "    .pivot(\"key\") \\\n",
    "    .agg(first(\"value\"))\n",
    "\n",
    "flattenedDF.show()"
   ]
  },
  {
   "cell_type": "markdown",
   "metadata": {},
   "source": [
    "# Let's inspect the Structure of our data"
   ]
  },
  {
   "cell_type": "code",
   "execution_count": null,
   "metadata": {},
   "outputs": [],
   "source": [
    "flattenedDF.printSchema()"
   ]
  },
  {
   "cell_type": "markdown",
   "metadata": {},
   "source": [
    "# Let's go to add the field \"placeOfBirth\" over a node"
   ]
  },
  {
   "cell_type": "code",
   "execution_count": null,
   "metadata": {},
   "outputs": [],
   "source": [
    "id = input(\"Id: \")\n",
    "placeOfBirth = input(\"Place of Birth: \")\n",
    "\n",
    "graph.run(\"MATCH (p:Person{id: $id}) SET p.placeOfBirth = $placeOfBirth return p\", parameters = {\"id\": id, \"placeOfBirth\": placeOfBirth}).data()"
   ]
  },
  {
   "cell_type": "markdown",
   "metadata": {},
   "source": [
    "# Check how the new field is automatically added to our representation"
   ]
  },
  {
   "cell_type": "code",
   "execution_count": null,
   "metadata": {},
   "outputs": [],
   "source": [
    "from pyspark.sql.functions import first, desc\n",
    "\n",
    "flattenedDF = spark.read.format(\"json\").load(\"/home/streams/jit-dwh/**\") \\\n",
    "    .where(\"neo_id is not null\") \\\n",
    "    .groupBy(\"neo_id\", \"timestamp\", \"host\", \"labels\", \"operation\") \\\n",
    "    .pivot(\"key\") \\\n",
    "    .agg(first(\"value\"))\n",
    "\n",
    "id = input(\"Id: \")\n",
    "flattenedDF.where(\"id = '{id}'\".format(**locals())).orderBy(desc(\"timestamp\")).show()"
   ]
  },
  {
   "cell_type": "code",
   "execution_count": null,
   "metadata": {},
   "outputs": [],
   "source": []
  }
 ],
 "metadata": {
  "interpreter": {
   "hash": "916dbcbb3f70747c44a77c7bcd40155683ae19c65e1c03b4aa3499c5328201f1"
  },
  "kernelspec": {
   "display_name": "Python 3",
   "language": "python",
   "name": "python3"
  },
  "language_info": {
   "codemirror_mode": {
    "name": "ipython",
    "version": 3
   },
   "file_extension": ".py",
   "mimetype": "text/x-python",
   "name": "python",
   "nbconvert_exporter": "python",
   "pygments_lexer": "ipython3",
   "version": "3.9.5"
  }
 },
 "nbformat": 4,
 "nbformat_minor": 5
}