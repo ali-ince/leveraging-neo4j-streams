{
 "cells": [
  {
   "cell_type": "markdown",
   "metadata": {},
   "source": [
    "# (Neo4j)-[:LOVES]->(Kafka)\n",
    "\n",
    "<div class=\"img-responsive center-block\" style=\"background-image: url('https://cdn-images-1.medium.com/max/2000/1*0k7QFFBl7YGD9haNYeLQpw.png'); width: 1124px; height: 300px; background-position: center; background-size: cover;\"></div>\n",
    "\n",
    "## Link\n",
    "\n",
    "https://neo4j-contrib.github.io/neo4j-streams/"
   ]
  },
  {
   "cell_type": "markdown",
   "metadata": {},
   "source": [
    "# Initialize spark & neo4j sessions"
   ]
  },
  {
   "cell_type": "code",
   "execution_count": 14,
   "metadata": {},
   "outputs": [
    {
     "name": "stdout",
     "output_type": "stream",
     "text": [
      "Requirement already satisfied: py2neo in /opt/conda/lib/python3.9/site-packages (2021.1.5)\n",
      "Requirement already satisfied: pansi>=2020.7.3 in /opt/conda/lib/python3.9/site-packages (from py2neo) (2020.7.3)\n",
      "Requirement already satisfied: neotime~=1.7.4 in /opt/conda/lib/python3.9/site-packages (from py2neo) (1.7.4)\n",
      "Requirement already satisfied: packaging in /opt/conda/lib/python3.9/site-packages (from py2neo) (20.9)\n",
      "Requirement already satisfied: cryptography in /opt/conda/lib/python3.9/site-packages (from py2neo) (3.4.7)\n",
      "Requirement already satisfied: pygments>=2.0.0 in /opt/conda/lib/python3.9/site-packages (from py2neo) (2.9.0)\n",
      "Requirement already satisfied: docker in /opt/conda/lib/python3.9/site-packages (from py2neo) (5.0.0)\n",
      "Requirement already satisfied: monotonic in /opt/conda/lib/python3.9/site-packages (from py2neo) (1.6)\n",
      "Requirement already satisfied: pytz in /opt/conda/lib/python3.9/site-packages (from py2neo) (2021.1)\n",
      "Requirement already satisfied: english in /opt/conda/lib/python3.9/site-packages (from py2neo) (2020.7.0)\n",
      "Requirement already satisfied: six>=1.15.0 in /opt/conda/lib/python3.9/site-packages (from py2neo) (1.16.0)\n",
      "Requirement already satisfied: urllib3 in /opt/conda/lib/python3.9/site-packages (from py2neo) (1.26.5)\n",
      "Requirement already satisfied: certifi in /opt/conda/lib/python3.9/site-packages (from py2neo) (2021.5.30)\n",
      "Requirement already satisfied: prompt-toolkit>=2.0.7 in /opt/conda/lib/python3.9/site-packages (from py2neo) (3.0.19)\n",
      "Requirement already satisfied: wcwidth in /opt/conda/lib/python3.9/site-packages (from prompt-toolkit>=2.0.7->py2neo) (0.2.5)\n",
      "Requirement already satisfied: cffi>=1.12 in /opt/conda/lib/python3.9/site-packages (from cryptography->py2neo) (1.14.5)\n",
      "Requirement already satisfied: pycparser in /opt/conda/lib/python3.9/site-packages (from cffi>=1.12->cryptography->py2neo) (2.20)\n",
      "Requirement already satisfied: websocket-client>=0.32.0 in /opt/conda/lib/python3.9/site-packages (from docker->py2neo) (0.57.0)\n",
      "Requirement already satisfied: requests!=2.18.0,>=2.14.2 in /opt/conda/lib/python3.9/site-packages (from docker->py2neo) (2.25.1)\n",
      "Requirement already satisfied: chardet<5,>=3.0.2 in /opt/conda/lib/python3.9/site-packages (from requests!=2.18.0,>=2.14.2->docker->py2neo) (4.0.0)\n",
      "Requirement already satisfied: idna<3,>=2.5 in /opt/conda/lib/python3.9/site-packages (from requests!=2.18.0,>=2.14.2->docker->py2neo) (2.10)\n",
      "Requirement already satisfied: pyparsing>=2.0.2 in /opt/conda/lib/python3.9/site-packages (from packaging->py2neo) (2.4.7)\n"
     ]
    }
   ],
   "source": [
    "# Spark\n",
    "from pyspark.sql import SparkSession\n",
    "\n",
    "spark = SparkSession.builder.master('local').config(\n",
    "    \"spark.jars.packages\",\n",
    "    \"org.apache.spark:spark-sql-kafka-0-10_2.12:3.1.2\"\n",
    ").getOrCreate()\n",
    "\n",
    "# Neo4j\n",
    "import sys\n",
    "!{sys.executable} -m pip install py2neo\n",
    "\n",
    "from py2neo import Graph\n",
    "\n",
    "graph = Graph(\"bolt://neo4j:7687\", auth=(\"neo4j\", \"zeppelin\"))"
   ]
  },
  {
   "cell_type": "markdown",
   "metadata": {},
   "source": [
    "# Query the JIT-DWH"
   ]
  },
  {
   "cell_type": "code",
   "execution_count": 15,
   "metadata": {},
   "outputs": [
    {
     "name": "stdout",
     "output_type": "stream",
     "text": [
      "+------+--------------------+-----+--------+---------+----+------+--------------------+-----+---------------+\n",
      "|neo_id|           timestamp| host|  labels|operation| age|gender|                  id|index|           name|\n",
      "+------+--------------------+-----+--------+---------+----+------+--------------------+-----+---------------+\n",
      "|  2240|2021-06-28T12:00:...|neo4j|[Person]|  created|86.0|     M|43284fe6-9bd8-412...|    3|Name-ClLOuk6VJh|\n",
      "|  2376|2021-06-28T11:48:...|neo4j|[Person]|  created| 9.0|     M|37136ccb-bd4a-4f3...|    9|Name-Vd56yHE8is|\n",
      "|  2786|2021-06-28T12:03:...|neo4j|[Person]|  created|75.0|     F|e8178989-7249-4f4...|    7|Name-paE56CMeX6|\n",
      "|  3239|2021-06-28T12:15:...|neo4j|[Person]|  created|51.0|     X|d89fa928-4e46-4a0...|   10|Name-vOLeA4K3st|\n",
      "|  3814|2021-06-28T12:29:...|neo4j|[Person]|  created|39.0|     X|60e1a42a-86e2-489...|    5|Name-eYsTwpsyoc|\n",
      "|  3865|2021-06-28T12:30:...|neo4j|[Person]|  created|15.0|     X|d5fb0ca6-3230-4ba...|    6|Name-tgMVBsodmn|\n",
      "|  4303|2021-06-28T12:41:...|neo4j|[Person]|  created|34.0|     M|62d981f7-eae9-488...|    4|Name-0hMy629ObU|\n",
      "|  4308|2021-06-28T12:41:...|neo4j|[Person]|  created|21.0|     M|4f236466-dc04-415...|    9|Name-DlVDnIlag4|\n",
      "|  4548|2021-06-28T12:47:...|neo4j|[Person]|  created|71.0|     M|2b8000f2-d581-4aa...|    9|Name-52ZF6XTYwx|\n",
      "|  4637|2021-06-28T12:49:...|neo4j|[Person]|  created|57.0|     M|94cad865-168f-430...|    8|Name-jlIdzmwwff|\n",
      "|  4682|2021-06-28T12:50:...|neo4j|[Person]|  created|40.0|     X|e6096271-a832-4a6...|    3|Name-cVitaLtzvs|\n",
      "|  4896|2021-06-28T12:57:...|neo4j|[Person]|  created|10.0|     F|31c59887-7f01-408...|    7|Name-qMxuUkFRbe|\n",
      "|  4928|2021-06-28T12:56:...|neo4j|[Person]|  created|49.0|     M|fcf64623-2ad3-4d9...|    9|Name-6lsgUCoaVj|\n",
      "|  4992|2021-06-28T12:59:...|neo4j|[Person]|  created|28.0|     F|d3d3df6e-f25d-461...|    3|Name-64YPvFoKh6|\n",
      "|  5320|2021-06-28T13:06:...|neo4j|[Person]|  created|11.0|     X|7272f864-832f-45d...|    1|Name-mWxRu4T2Jv|\n",
      "|  5585|2021-06-28T13:13:...|neo4j|[Person]|  created|16.0|     M|4cc86ba5-2a5b-456...|    6|Name-4KcaAnEcwG|\n",
      "|  1976|2021-06-28T11:55:...|neo4j|[Person]|  created| 5.0|     M|f147f3ae-dc4f-4b7...|    7|Name-MXqadNHtyr|\n",
      "|  2105|2021-06-28T11:57:...|neo4j|[Person]|  created|95.0|     F|3a558bd3-27c1-46a...|    8|Name-FlGPdVb5w4|\n",
      "|  2251|2021-06-28T12:01:...|neo4j|[Person]|  created|80.0|     M|1a3175de-c74f-406...|    4|Name-C9l7LV0hNf|\n",
      "|  2533|2021-06-28T11:51:...|neo4j|[Person]|  created|51.0|     M|28645957-a749-4ca...|    6|Name-MaUyIBRa8t|\n",
      "+------+--------------------+-----+--------+---------+----+------+--------------------+-----+---------------+\n",
      "only showing top 20 rows\n",
      "\n"
     ]
    }
   ],
   "source": [
    "from pyspark.sql.functions import first\n",
    "\n",
    "flattenedDF = spark.read.format(\"json\").load(\"/home/streams/jit-dwh/**\") \\\n",
    "    .where(\"neo_id is not null\") \\\n",
    "    .groupBy(\"neo_id\", \"timestamp\", \"host\", \"labels\", \"operation\") \\\n",
    "    .pivot(\"key\") \\\n",
    "    .agg(first(\"value\"))\n",
    "\n",
    "flattenedDF.show()"
   ]
  },
  {
   "cell_type": "markdown",
   "metadata": {},
   "source": [
    "# Let's inspect the Structure of our data"
   ]
  },
  {
   "cell_type": "code",
   "execution_count": 16,
   "metadata": {},
   "outputs": [
    {
     "name": "stdout",
     "output_type": "stream",
     "text": [
      "root\n",
      " |-- neo_id: string (nullable = true)\n",
      " |-- timestamp: string (nullable = true)\n",
      " |-- host: string (nullable = true)\n",
      " |-- labels: array (nullable = true)\n",
      " |    |-- element: string (containsNull = true)\n",
      " |-- operation: string (nullable = true)\n",
      " |-- age: string (nullable = true)\n",
      " |-- gender: string (nullable = true)\n",
      " |-- id: string (nullable = true)\n",
      " |-- index: string (nullable = true)\n",
      " |-- name: string (nullable = true)\n",
      "\n"
     ]
    }
   ],
   "source": [
    "flattenedDF.printSchema()"
   ]
  },
  {
   "cell_type": "markdown",
   "metadata": {},
   "source": [
    "# Let's go to add the field \"placeOfBirth\" over a node"
   ]
  },
  {
   "cell_type": "code",
   "execution_count": 26,
   "metadata": {},
   "outputs": [
    {
     "name": "stdout",
     "output_type": "stream",
     "text": [
      "Id4ea84c54-b0ec-4e57-96ac-071e0b3bc370\n",
      "Birth Year1980\n"
     ]
    },
    {
     "data": {
      "text/plain": [
       "[{'p': Node('Person', age=18.0, birthYear='1980', gender='F', id='4ea84c54-b0ec-4e57-96ac-071e0b3bc370', index=9, name='Name-SGQAfhw767')}]"
      ]
     },
     "execution_count": 26,
     "metadata": {},
     "output_type": "execute_result"
    }
   ],
   "source": [
    "id = input(\"Id: \")\n",
    "placeOfBirth = input(\"Place of Birth: \")\n",
    "\n",
    "graph.run(\"MATCH (p:Person{id: $id}) SET p.placeOfBirth = $placeOfBirth return p\", parameters = {\"id\": id, \"placeOfBirth\": placeOfBirth}).data()"
   ]
  },
  {
   "cell_type": "markdown",
   "metadata": {},
   "source": [
    "# Check how the new field is automatically added to our representation"
   ]
  },
  {
   "cell_type": "code",
   "execution_count": null,
   "metadata": {},
   "outputs": [],
   "source": [
    "from pyspark.sql.functions import first, desc\n",
    "\n",
    "flattenedDF = spark.read.format(\"json\").load(\"/home/streams/jit-dwh/**\") \\\n",
    "    .where(\"neo_id is not null\") \\\n",
    "    .groupBy(\"neo_id\", \"timestamp\", \"host\", \"labels\", \"operation\") \\\n",
    "    .pivot(\"key\") \\\n",
    "    .agg(first(\"value\"))\n",
    "\n",
    "id = input(\"Id: \")\n",
    "flattenedDF.where(\"id = '{id}'\".format(**locals())).orderBy(desc(\"timestamp\")).show()"
   ]
  }
 ],
 "metadata": {
  "interpreter": {
   "hash": "916dbcbb3f70747c44a77c7bcd40155683ae19c65e1c03b4aa3499c5328201f1"
  },
  "kernelspec": {
   "display_name": "Python 3",
   "language": "python",
   "name": "python3"
  },
  "language_info": {
   "codemirror_mode": {
    "name": "ipython",
    "version": 3
   },
   "file_extension": ".py",
   "mimetype": "text/x-python",
   "name": "python",
   "nbconvert_exporter": "python",
   "pygments_lexer": "ipython3",
   "version": "3.9.5"
  }
 },
 "nbformat": 4,
 "nbformat_minor": 5
}