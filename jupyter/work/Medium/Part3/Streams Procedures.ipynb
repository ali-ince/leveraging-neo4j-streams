{
 "cells": [
  {
   "cell_type": "markdown",
   "id": "553ec030",
   "metadata": {},
   "source": [
    "# How to test it\n",
    "\n",
    "Go to the command line and create a consumer\n",
    "\n",
    "```\n",
    "docker exec -it broker kafka-console-consumer --topic my-topic \\\n",
    "  --bootstrap-server broker:9092\n",
    "```\n"
   ]
  },
  {
   "cell_type": "markdown",
   "id": "656477e1",
   "metadata": {},
   "source": [
    "# streams.publish\n",
    "This procedure allows custom message streaming from Neo4j to the configured environment by using the underlying configured Producer.\n",
    "\n",
    "## How to use it\n",
    "\n",
    "```\n",
    "CALL streams.publish('my-topic', 'Hello World from Neo4j!')\n",
    "```"
   ]
  },
  {
   "cell_type": "markdown",
   "id": "d21a83c8",
   "metadata": {},
   "source": [
    "# Initialize Neo4j Session"
   ]
  },
  {
   "cell_type": "code",
   "execution_count": null,
   "id": "aaf5961b",
   "metadata": {},
   "outputs": [],
   "source": [
    "# Neo4j\n",
    "import sys\n",
    "!{sys.executable} -m pip install py2neo\n",
    "\n",
    "from py2neo import Graph\n",
    "\n",
    "graph = Graph(\"bolt://neo4j:7687\", auth=(\"neo4j\", \"streams\"))"
   ]
  },
  {
   "cell_type": "markdown",
   "id": "631431cd",
   "metadata": {},
   "source": [
    "# Publish your first event"
   ]
  },
  {
   "cell_type": "code",
   "execution_count": null,
   "id": "b5a0893f",
   "metadata": {},
   "outputs": [],
   "source": [
    "graph.run(\"\"\"CALL streams.publish('my-topic', 'Hello World from Neo4j!')\"\"\")"
   ]
  },
  {
   "cell_type": "markdown",
   "id": "c4641737",
   "metadata": {},
   "source": [
    "# Create a new Consumer\n",
    "\n",
    "```\n",
    "docker exec -it broker kafka-console-consumer --topic persons \\\n",
    "  --bootstrap-server broker:9092\n",
    "```"
   ]
  },
  {
   "cell_type": "markdown",
   "id": "a6ed603f",
   "metadata": {},
   "source": [
    "# Publish a JSON"
   ]
  },
  {
   "cell_type": "code",
   "execution_count": null,
   "id": "59f09993",
   "metadata": {},
   "outputs": [],
   "source": [
    "graph.run(\"\"\"\n",
    "CALL streams.publish('persons', [{name: \"Andrea\", surname: \"Santurbano\"}, {name: \"Michael\", surname: \"Hunger\"}])\n",
    "\"\"\")"
   ]
  },
  {
   "cell_type": "markdown",
   "id": "27bba1c9",
   "metadata": {},
   "source": [
    "# streams.consume\n",
    "This procedure allows to consume messages from a given topic.\n",
    "\n",
    "## How to use it:\n",
    "\n",
    "Imagine you have a producer that publish events like this `{\"name\": \"Andrea\", \"surname\": \"Santurbano\"}`, we can create user nodes in this way:\n",
    "```\n",
    "CALL streams.consume('my-topic', {<config>}) YIELD event\n",
    "CREATE (p:Person{firstName: event.data.name, lastName: event.data.surname})\n",
    "```"
   ]
  },
  {
   "cell_type": "markdown",
   "id": "0d2f2bec",
   "metadata": {},
   "source": [
    "# Create a Producer\n",
    "\n",
    "```\n",
    "docker exec -it broker kafka-console-producer --topic persons-topic \\\n",
    "  --broker-list broker:9092\n",
    "```\n",
    "\n",
    "## Send the data\n",
    "\n",
    "```\n",
    "[{\"name\": \"Andrea\", \"surname\": \"Santurbano\"}, {\"name\": \"Michael\", \"surname\": \"Hunger\"}]\n",
    "```"
   ]
  },
  {
   "cell_type": "markdown",
   "id": "9f8c9572",
   "metadata": {},
   "source": [
    "# Consume your data from topic"
   ]
  },
  {
   "cell_type": "code",
   "execution_count": null,
   "id": "0fe7f689",
   "metadata": {},
   "outputs": [],
   "source": [
    "graph.run(\"\"\"\n",
    "call streams.consume('persons', {timeout: 5000, from: 'earliest'}) YIELD event\n",
    "unwind event.data as elem\n",
    "return elem\n",
    "\"\"\")"
   ]
  }
 ],
 "metadata": {
  "interpreter": {
   "hash": "916dbcbb3f70747c44a77c7bcd40155683ae19c65e1c03b4aa3499c5328201f1"
  },
  "kernelspec": {
   "display_name": "Python 3",
   "language": "python",
   "name": "python3"
  },
  "language_info": {
   "codemirror_mode": {
    "name": "ipython",
    "version": 3
   },
   "file_extension": ".py",
   "mimetype": "text/x-python",
   "name": "python",
   "nbconvert_exporter": "python",
   "pygments_lexer": "ipython3",
   "version": "3.9.5"
  }
 },
 "nbformat": 4,
 "nbformat_minor": 5
}
